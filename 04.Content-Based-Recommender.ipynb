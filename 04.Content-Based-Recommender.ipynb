{
 "cells": [
  {
   "cell_type": "markdown",
   "metadata": {},
   "source": [
    "# Content Based Recommender\n",
    "\n",
    "> Author: [Yalim Demirkesen](github.com/demirkeseny) \n",
    "\n",
    "> Date: March 2019"
   ]
  },
  {
   "cell_type": "markdown",
   "metadata": {},
   "source": [
    "As you might recall from the previous notebook, I used a module called *Goodreads* that enabled me to get detailed information about each book. In my case most useful one is the book description. Almost for each book there are couple paragraphs of explanations. \n",
    "\n",
    "Just to give an example, for *Harry Potter and the Philosopher's Stone* there is the below description:\n",
    "\n",
    "> *Harry Potter's life is miserable. His parents are dead and he's stuck with his heartless relatives, who force him to live in a tiny closet under the stairs. But his fortune changes when he receives a letter that tells him the truth about himself: he's a wizard. A mysterious visitor rescues him from his relatives and takes him to his new home, Hogwarts School of Witchcraft and Wizardry.  After a lifetime of bottling up his magical powers, Harry finally feels like a normal kid. But even within the Wizarding community, he is special. He is the boy who lived: the only person to have ever survived a killing curse inflicted by the evil Lord Voldemort, who launched a brutal takeover of the Wizarding world, only to vanish after failing to kill Harry.  Though Harry's first year at Hogwarts is the best of his life, not everything is perfect. There is a dangerous secret object hidden within the castle walls, and Harry believes it's his responsibility to prevent it from falling into evil hands. But doing so will bring him into contact with forces more terrifying than he ever could have imagined.  Full of sympathetic characters, wildly imaginative situations, and countless exciting details, the first installment in the series assembles an unforgettable magical world and sets the stage for many high-stakes adventures to come.*\n",
    "\n",
    "This detailed explanation is essential to create a NLP model that could analyze the frequency of the words and then assign the similarity among them. So based on the word counts I was able to suggest books."
   ]
  },
  {
   "cell_type": "code",
   "execution_count": 1,
   "metadata": {},
   "outputs": [],
   "source": [
    "# Necessary libraries:\n",
    "import pandas as pd\n",
    "from sklearn.feature_extraction.text import TfidfVectorizer, CountVectorizer\n",
    "from sklearn.metrics.pairwise import linear_kernel, cosine_similarity\n",
    "from nltk.corpus import wordnet\n",
    "from ast import literal_eval\n",
    "import scipy.stats as stats"
   ]
  },
  {
   "cell_type": "code",
   "execution_count": 2,
   "metadata": {},
   "outputs": [],
   "source": [
    "# Downloading the extended book dataset:\n",
    "books = pd.read_csv('./data/books_extended.csv', encoding='utf-8-sig')"
   ]
  },
  {
   "cell_type": "code",
   "execution_count": 3,
   "metadata": {},
   "outputs": [],
   "source": [
    "# Taking only the useful columns:\n",
    "books = books[['book_id','authors','original_title','title_x','language_code', \n",
    "                'description']]"
   ]
  },
  {
   "cell_type": "markdown",
   "metadata": {},
   "source": [
    "In order to run NLP model, I need to take only the english explanations. Since I also have different langugages, I cannot build a recommendation since they require a different model."
   ]
  },
  {
   "cell_type": "code",
   "execution_count": 4,
   "metadata": {},
   "outputs": [
    {
     "data": {
      "text/plain": [
       "eng      6341\n",
       "en-US    2070\n",
       "en-GB     257\n",
       "ara        64\n",
       "en-CA      58\n",
       "fre        25\n",
       "ind        21\n",
       "spa        20\n",
       "ger        13\n",
       "jpn         7\n",
       "per         7\n",
       "por         6\n",
       "pol         6\n",
       "en          4\n",
       "nor         3\n",
       "dan         3\n",
       "ita         2\n",
       "fil         2\n",
       "swe         1\n",
       "vie         1\n",
       "rus         1\n",
       "nl          1\n",
       "tur         1\n",
       "rum         1\n",
       "mul         1\n",
       "Name: language_code, dtype: int64"
      ]
     },
     "execution_count": 4,
     "metadata": {},
     "output_type": "execute_result"
    }
   ],
   "source": [
    "books.language_code.value_counts()"
   ]
  },
  {
   "cell_type": "code",
   "execution_count": 5,
   "metadata": {},
   "outputs": [],
   "source": [
    "# Listing all the words used to describe English:\n",
    "eng_book = ['eng', 'en-US', 'en-GB', 'en-CA', 'en']"
   ]
  },
  {
   "cell_type": "code",
   "execution_count": 6,
   "metadata": {},
   "outputs": [],
   "source": [
    "# Filtering the english books\n",
    "books = books[books['language_code'].isin(eng_book)]"
   ]
  },
  {
   "cell_type": "code",
   "execution_count": 7,
   "metadata": {},
   "outputs": [
    {
     "data": {
      "text/html": [
       "<div>\n",
       "<style scoped>\n",
       "    .dataframe tbody tr th:only-of-type {\n",
       "        vertical-align: middle;\n",
       "    }\n",
       "\n",
       "    .dataframe tbody tr th {\n",
       "        vertical-align: top;\n",
       "    }\n",
       "\n",
       "    .dataframe thead th {\n",
       "        text-align: right;\n",
       "    }\n",
       "</style>\n",
       "<table border=\"1\" class=\"dataframe\">\n",
       "  <thead>\n",
       "    <tr style=\"text-align: right;\">\n",
       "      <th></th>\n",
       "      <th>book_id</th>\n",
       "      <th>authors</th>\n",
       "      <th>original_title</th>\n",
       "      <th>title_x</th>\n",
       "      <th>language_code</th>\n",
       "      <th>description</th>\n",
       "    </tr>\n",
       "  </thead>\n",
       "  <tbody>\n",
       "    <tr>\n",
       "      <th>0</th>\n",
       "      <td>2767052</td>\n",
       "      <td>Suzanne Collins</td>\n",
       "      <td>The Hunger Games</td>\n",
       "      <td>The Hunger Games (The Hunger Games, #1)</td>\n",
       "      <td>eng</td>\n",
       "      <td>Could you survive on your own, in the wild, wi...</td>\n",
       "    </tr>\n",
       "    <tr>\n",
       "      <th>1</th>\n",
       "      <td>3</td>\n",
       "      <td>J.K. Rowling, Mary GrandPré</td>\n",
       "      <td>Harry Potter and the Philosopher's Stone</td>\n",
       "      <td>Harry Potter and the Sorcerer's Stone (Harry P...</td>\n",
       "      <td>eng</td>\n",
       "      <td>Harry Potter's life is miserable. His parents ...</td>\n",
       "    </tr>\n",
       "    <tr>\n",
       "      <th>2</th>\n",
       "      <td>41865</td>\n",
       "      <td>Stephenie Meyer</td>\n",
       "      <td>Twilight</td>\n",
       "      <td>Twilight (Twilight, #1)</td>\n",
       "      <td>en-US</td>\n",
       "      <td>&lt;b&gt;About three things I was absolutely positiv...</td>\n",
       "    </tr>\n",
       "    <tr>\n",
       "      <th>3</th>\n",
       "      <td>2657</td>\n",
       "      <td>Harper Lee</td>\n",
       "      <td>To Kill a Mockingbird</td>\n",
       "      <td>To Kill a Mockingbird</td>\n",
       "      <td>eng</td>\n",
       "      <td>The unforgettable novel of a childhood in a sl...</td>\n",
       "    </tr>\n",
       "    <tr>\n",
       "      <th>4</th>\n",
       "      <td>4671</td>\n",
       "      <td>F. Scott Fitzgerald</td>\n",
       "      <td>The Great Gatsby</td>\n",
       "      <td>The Great Gatsby</td>\n",
       "      <td>eng</td>\n",
       "      <td>Alternate Cover Edition ISBN: 0743273567 (ISBN...</td>\n",
       "    </tr>\n",
       "  </tbody>\n",
       "</table>\n",
       "</div>"
      ],
      "text/plain": [
       "   book_id                      authors  \\\n",
       "0  2767052              Suzanne Collins   \n",
       "1        3  J.K. Rowling, Mary GrandPré   \n",
       "2    41865              Stephenie Meyer   \n",
       "3     2657                   Harper Lee   \n",
       "4     4671          F. Scott Fitzgerald   \n",
       "\n",
       "                             original_title  \\\n",
       "0                          The Hunger Games   \n",
       "1  Harry Potter and the Philosopher's Stone   \n",
       "2                                  Twilight   \n",
       "3                     To Kill a Mockingbird   \n",
       "4                          The Great Gatsby   \n",
       "\n",
       "                                             title_x language_code  \\\n",
       "0            The Hunger Games (The Hunger Games, #1)           eng   \n",
       "1  Harry Potter and the Sorcerer's Stone (Harry P...           eng   \n",
       "2                            Twilight (Twilight, #1)         en-US   \n",
       "3                              To Kill a Mockingbird           eng   \n",
       "4                                   The Great Gatsby           eng   \n",
       "\n",
       "                                         description  \n",
       "0  Could you survive on your own, in the wild, wi...  \n",
       "1  Harry Potter's life is miserable. His parents ...  \n",
       "2  <b>About three things I was absolutely positiv...  \n",
       "3  The unforgettable novel of a childhood in a sl...  \n",
       "4  Alternate Cover Edition ISBN: 0743273567 (ISBN...  "
      ]
     },
     "execution_count": 7,
     "metadata": {},
     "output_type": "execute_result"
    }
   ],
   "source": [
    "books.head()"
   ]
  },
  {
   "cell_type": "code",
   "execution_count": 8,
   "metadata": {},
   "outputs": [
    {
     "data": {
      "text/plain": [
       "(8730, 6)"
      ]
     },
     "execution_count": 8,
     "metadata": {},
     "output_type": "execute_result"
    }
   ],
   "source": [
    "# Checking the number of rows of the remaining books:\n",
    "books.shape"
   ]
  },
  {
   "cell_type": "markdown",
   "metadata": {},
   "source": [
    "Below there is the description of one book. As we can realize there characters that are not related to the explanation but rather the symbols for the format of the text. We need to delete them since they will be recognized no different than other strings to our model."
   ]
  },
  {
   "cell_type": "code",
   "execution_count": 9,
   "metadata": {},
   "outputs": [
    {
     "name": "stdout",
     "output_type": "stream",
     "text": [
      "Harry Potter's life is miserable. His parents are dead and he's stuck with his heartless relatives, who force him to live in a tiny closet under the stairs. But his fortune changes when he receives a letter that tells him the truth about himself: he's a wizard. A mysterious visitor rescues him from his relatives and takes him to his new home, Hogwarts School of Witchcraft and Wizardry.<br /><br />After a lifetime of bottling up his magical powers, Harry finally feels like a normal kid. But even within the Wizarding community, he is special. He is the boy who lived: the only person to have ever survived a killing curse inflicted by the evil Lord Voldemort, who launched a brutal takeover of the Wizarding world, only to vanish after failing to kill Harry.<br /><br />Though Harry's first year at Hogwarts is the best of his life, not everything is perfect. There is a dangerous secret object hidden within the castle walls, and Harry believes it's his responsibility to prevent it from falling into evil hands. But doing so will bring him into contact with forces more terrifying than he ever could have imagined.<br /><br />Full of sympathetic characters, wildly imaginative situations, and countless exciting details, the first installment in the series assembles an unforgettable magical world and sets the stage for many high-stakes adventures to come.\n"
     ]
    }
   ],
   "source": [
    "print(books.description.tolist()[1:2][0])"
   ]
  },
  {
   "cell_type": "code",
   "execution_count": 11,
   "metadata": {},
   "outputs": [],
   "source": [
    "books.description = books.description.str.replace('<br />', ' ')\n",
    "books.description = books.description.str.replace('<b>', ' ')\n",
    "books.description = books.description.str.replace('</b>', ' ')\n",
    "books.description = books.description.str.replace('<i>', ' ')\n",
    "books.description = books.description.str.replace('</i>', ' ')\n",
    "books.description = books.description.str.replace('<p>', ' ')\n",
    "books.description = books.description.str.replace('</p>', ' ')\n",
    "books.description = books.description.str.replace('<blockquote>', ' ')"
   ]
  },
  {
   "cell_type": "markdown",
   "metadata": {},
   "source": [
    "After the cleaning process, we will delete all the empty values for the description since we cannot use them if they don't exist."
   ]
  },
  {
   "cell_type": "code",
   "execution_count": 12,
   "metadata": {},
   "outputs": [],
   "source": [
    "books.dropna(subset=['description'], inplace = True)"
   ]
  },
  {
   "cell_type": "code",
   "execution_count": 13,
   "metadata": {},
   "outputs": [
    {
     "data": {
      "text/plain": [
       "book_id             0\n",
       "authors             0\n",
       "original_title    489\n",
       "title_x             0\n",
       "language_code       0\n",
       "description         0\n",
       "dtype: int64"
      ]
     },
     "execution_count": 13,
     "metadata": {},
     "output_type": "execute_result"
    }
   ],
   "source": [
    "# Checking the missing values in all of the columns:\n",
    "books.isnull().sum()"
   ]
  },
  {
   "cell_type": "markdown",
   "metadata": {},
   "source": [
    "It is okay that there are empty cells in the `original_title` since it shows that the `title_x` is has the original title."
   ]
  },
  {
   "cell_type": "code",
   "execution_count": 14,
   "metadata": {},
   "outputs": [],
   "source": [
    "# Resetting the indexes after eliminating the missing data\n",
    "books.reset_index(drop=True, inplace=True)"
   ]
  },
  {
   "cell_type": "markdown",
   "metadata": {},
   "source": [
    "To check multiple scenarios, I will run the countvectorizer in bins of 1, 2, 3 and 4 words."
   ]
  },
  {
   "cell_type": "code",
   "execution_count": 15,
   "metadata": {},
   "outputs": [],
   "source": [
    "# creating a tfidf on the descriptions\n",
    "tf = TfidfVectorizer(analyzer='word',ngram_range=(1, 4),min_df=0, stop_words='english')"
   ]
  },
  {
   "cell_type": "code",
   "execution_count": 16,
   "metadata": {},
   "outputs": [],
   "source": [
    "tfidf_matrix = tf.fit_transform(books['description'])"
   ]
  },
  {
   "cell_type": "code",
   "execution_count": 17,
   "metadata": {},
   "outputs": [
    {
     "data": {
      "text/plain": [
       "(8671, 1832045)"
      ]
     },
     "execution_count": 17,
     "metadata": {},
     "output_type": "execute_result"
    }
   ],
   "source": [
    "tfidf_matrix.shape"
   ]
  },
  {
   "cell_type": "code",
   "execution_count": 18,
   "metadata": {},
   "outputs": [],
   "source": [
    "# since recommender systems rely on the cosine similarity, I benefited from that one\n",
    "cosine_sim = linear_kernel(tfidf_matrix, tfidf_matrix)"
   ]
  },
  {
   "cell_type": "code",
   "execution_count": 19,
   "metadata": {},
   "outputs": [],
   "source": [
    "book_desc= books['description']\n",
    "indices = pd.Series(books.index, index = book_desc)"
   ]
  },
  {
   "cell_type": "code",
   "execution_count": 20,
   "metadata": {},
   "outputs": [],
   "source": [
    "# created a function to create a recommendation\n",
    "def recommender(book_title, topN):\n",
    "    \n",
    "    for title in books.loc[books['title_x'].str.contains(book_title), 'title_x']:\n",
    "        print(title)\n",
    "        rowN = books[books['title_x'] == title].index.values.astype(int)[0]\n",
    "        overview = books.iloc[rowN]['description']\n",
    "        scores = sorted(list(enumerate(cosine_sim[indices[overview]])), key=lambda x:x[1], reverse=True)[1:(topN+1)]\n",
    "        book_no = [cell[0]for cell in scores]\n",
    "        topN = books.iloc[book_no][['authors','title_x','description']] \n",
    "        topN.reset_index(drop=True, inplace=True)\n",
    "        return topN"
   ]
  },
  {
   "cell_type": "markdown",
   "metadata": {},
   "source": [
    "Below you can find the top 10 recommended books for `Treasure Island`:"
   ]
  },
  {
   "cell_type": "code",
   "execution_count": 21,
   "metadata": {
    "scrolled": true
   },
   "outputs": [
    {
     "name": "stdout",
     "output_type": "stream",
     "text": [
      "Treasure Island\n"
     ]
    },
    {
     "data": {
      "text/html": [
       "<div>\n",
       "<style scoped>\n",
       "    .dataframe tbody tr th:only-of-type {\n",
       "        vertical-align: middle;\n",
       "    }\n",
       "\n",
       "    .dataframe tbody tr th {\n",
       "        vertical-align: top;\n",
       "    }\n",
       "\n",
       "    .dataframe thead th {\n",
       "        text-align: right;\n",
       "    }\n",
       "</style>\n",
       "<table border=\"1\" class=\"dataframe\">\n",
       "  <thead>\n",
       "    <tr style=\"text-align: right;\">\n",
       "      <th></th>\n",
       "      <th>AUTHOR</th>\n",
       "      <th>BOOK TITLE</th>\n",
       "      <th>DESCRIPTION</th>\n",
       "    </tr>\n",
       "  </thead>\n",
       "  <tbody>\n",
       "    <tr>\n",
       "      <th>0</th>\n",
       "      <td>Enid Blyton</td>\n",
       "      <td>Five on a Treasure Island (Famous Five, #1)</td>\n",
       "      <td>The very first Famous Five adventure, featurin...</td>\n",
       "    </tr>\n",
       "    <tr>\n",
       "      <th>1</th>\n",
       "      <td>Robert Louis Stevenson</td>\n",
       "      <td>The Black Arrow</td>\n",
       "      <td>From the beloved author of  Treasure Island  ...</td>\n",
       "    </tr>\n",
       "    <tr>\n",
       "      <th>2</th>\n",
       "      <td>Alexandre Dumas, Robin Buss</td>\n",
       "      <td>The Count of Monte Cristo</td>\n",
       "      <td>In 1815 Edmond Dantès, a young and successful ...</td>\n",
       "    </tr>\n",
       "    <tr>\n",
       "      <th>3</th>\n",
       "      <td>Susan Cooper</td>\n",
       "      <td>The Dark Is Rising Sequence  (The Dark Is Risi...</td>\n",
       "      <td>\"When the Dark comes rising, six shall turn...</td>\n",
       "    </tr>\n",
       "    <tr>\n",
       "      <th>4</th>\n",
       "      <td>Arthur Conan Doyle</td>\n",
       "      <td>The Complete Sherlock Holmes</td>\n",
       "      <td>A study in scarlet -- The sign of four -- Adve...</td>\n",
       "    </tr>\n",
       "    <tr>\n",
       "      <th>5</th>\n",
       "      <td>Megan Whalen Turner</td>\n",
       "      <td>The Thief (The Queen's Thief, #1)</td>\n",
       "      <td>The king's scholar, the magus, believes he kno...</td>\n",
       "    </tr>\n",
       "    <tr>\n",
       "      <th>6</th>\n",
       "      <td>Anne Rivers Siddons</td>\n",
       "      <td>Low Country</td>\n",
       "      <td>Caroline Venable has everything her Southern h...</td>\n",
       "    </tr>\n",
       "    <tr>\n",
       "      <th>7</th>\n",
       "      <td>Nora Roberts</td>\n",
       "      <td>The Reef</td>\n",
       "      <td>A marine archaeologist and a salvager join fo...</td>\n",
       "    </tr>\n",
       "    <tr>\n",
       "      <th>8</th>\n",
       "      <td>Clive Cussler</td>\n",
       "      <td>Inca Gold (Dirk Pitt, #12)</td>\n",
       "      <td>Nearly five centuries ago, a fleet of boats la...</td>\n",
       "    </tr>\n",
       "    <tr>\n",
       "      <th>9</th>\n",
       "      <td>Dave Barry, Ridley Pearson, Greg Call</td>\n",
       "      <td>Peter and the Starcatchers (Peter and the Star...</td>\n",
       "      <td>Orphan Peter and his mates are dispatched to a...</td>\n",
       "    </tr>\n",
       "  </tbody>\n",
       "</table>\n",
       "</div>"
      ],
      "text/plain": [
       "                                  AUTHOR  \\\n",
       "0                            Enid Blyton   \n",
       "1                 Robert Louis Stevenson   \n",
       "2            Alexandre Dumas, Robin Buss   \n",
       "3                           Susan Cooper   \n",
       "4                     Arthur Conan Doyle   \n",
       "5                    Megan Whalen Turner   \n",
       "6                    Anne Rivers Siddons   \n",
       "7                           Nora Roberts   \n",
       "8                          Clive Cussler   \n",
       "9  Dave Barry, Ridley Pearson, Greg Call   \n",
       "\n",
       "                                          BOOK TITLE  \\\n",
       "0        Five on a Treasure Island (Famous Five, #1)   \n",
       "1                                    The Black Arrow   \n",
       "2                          The Count of Monte Cristo   \n",
       "3  The Dark Is Rising Sequence  (The Dark Is Risi...   \n",
       "4                       The Complete Sherlock Holmes   \n",
       "5                  The Thief (The Queen's Thief, #1)   \n",
       "6                                        Low Country   \n",
       "7                                           The Reef   \n",
       "8                         Inca Gold (Dirk Pitt, #12)   \n",
       "9  Peter and the Starcatchers (Peter and the Star...   \n",
       "\n",
       "                                         DESCRIPTION  \n",
       "0  The very first Famous Five adventure, featurin...  \n",
       "1   From the beloved author of  Treasure Island  ...  \n",
       "2  In 1815 Edmond Dantès, a young and successful ...  \n",
       "3     \"When the Dark comes rising, six shall turn...  \n",
       "4  A study in scarlet -- The sign of four -- Adve...  \n",
       "5  The king's scholar, the magus, believes he kno...  \n",
       "6  Caroline Venable has everything her Southern h...  \n",
       "7   A marine archaeologist and a salvager join fo...  \n",
       "8  Nearly five centuries ago, a fleet of boats la...  \n",
       "9  Orphan Peter and his mates are dispatched to a...  "
      ]
     },
     "execution_count": 21,
     "metadata": {},
     "output_type": "execute_result"
    }
   ],
   "source": [
    "treasure9 = recommender('Treasure', 10)\n",
    "treasure9.columns = ['AUTHOR','BOOK TITLE', 'DESCRIPTION']\n",
    "treasure9"
   ]
  }
 ],
 "metadata": {
  "kernelspec": {
   "display_name": "Python 3",
   "language": "python",
   "name": "python3"
  },
  "language_info": {
   "codemirror_mode": {
    "name": "ipython",
    "version": 3
   },
   "file_extension": ".py",
   "mimetype": "text/x-python",
   "name": "python",
   "nbconvert_exporter": "python",
   "pygments_lexer": "ipython3",
   "version": "3.6.6"
  }
 },
 "nbformat": 4,
 "nbformat_minor": 2
}
